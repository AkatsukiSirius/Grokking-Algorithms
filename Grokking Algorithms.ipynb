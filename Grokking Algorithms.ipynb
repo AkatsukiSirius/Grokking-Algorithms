{
 "cells": [
  {
   "cell_type": "markdown",
   "metadata": {},
   "source": [
    "# Introduction"
   ]
  },
  {
   "cell_type": "markdown",
   "metadata": {},
   "source": [
    "## Binary Search\n",
    "\n",
    "- Only for sorted elements"
   ]
  },
  {
   "cell_type": "code",
   "execution_count": 7,
   "metadata": {
    "collapsed": true
   },
   "outputs": [],
   "source": [
    "def binary_search(ls, target):\n",
    "    low = 0\n",
    "    high = len(ls) - 1\n",
    "    while low <= high:\n",
    "        mid = (low + high)//2\n",
    "        guess = ls[mid]\n",
    "        if guess == target:\n",
    "            return mid\n",
    "        if guess > target:\n",
    "            high = mid - 1\n",
    "        else:\n",
    "            low = mid + 1\n",
    "    return None "
   ]
  },
  {
   "cell_type": "code",
   "execution_count": 8,
   "metadata": {
    "collapsed": true
   },
   "outputs": [],
   "source": [
    "my_list = [1, 3, 5, 7, 9]"
   ]
  },
  {
   "cell_type": "code",
   "execution_count": 9,
   "metadata": {},
   "outputs": [
    {
     "data": {
      "text/plain": [
       "3"
      ]
     },
     "execution_count": 9,
     "metadata": {},
     "output_type": "execute_result"
    }
   ],
   "source": [
    "binary_search(my_list, 7)"
   ]
  },
  {
   "cell_type": "markdown",
   "metadata": {},
   "source": [
    "## The traveling salesperson\n",
    "\n",
    "- Go to five citites with minimum distance\n",
    "\n",
    "- O(n!)"
   ]
  },
  {
   "cell_type": "markdown",
   "metadata": {},
   "source": [
    "# Selection Sort"
   ]
  },
  {
   "cell_type": "markdown",
   "metadata": {},
   "source": [
    "## Linked List\n",
    "\n",
    "- Hard to access (can’t instantly calculate the position of element we want to get)\n",
    "\n",
    "- Easy to save in memory\n",
    "\n",
    "- Easy to insert/delete an element: O(1)\n",
    "\n",
    "## Array\n",
    "\n",
    "- Easy to access (read random element)\n",
    "\n",
    "- Hard to save in memory (waste memory, reassign memory)\n",
    "\n",
    "- Complex to insert/delete: O(n)\n",
    "\n",
    "## Algorithm\n",
    "\n",
    "- Pick the extrem of the list, move it to another list\n",
    "\n",
    "- Repeat the same operation to the sublist"
   ]
  },
  {
   "cell_type": "code",
   "execution_count": 1,
   "metadata": {
    "collapsed": true
   },
   "outputs": [],
   "source": [
    "arr = [10,1,40,6]"
   ]
  },
  {
   "cell_type": "code",
   "execution_count": 3,
   "metadata": {
    "collapsed": true
   },
   "outputs": [],
   "source": [
    "def findSmallest(arr):\n",
    "    smallest = arr[0]\n",
    "    smallest_index = 0\n",
    "    for i in range(1,len(arr)):\n",
    "        if arr[i] < smallest:\n",
    "            smallest = arr[i]\n",
    "            smallest_index = i\n",
    "    return smallest_index"
   ]
  },
  {
   "cell_type": "code",
   "execution_count": 5,
   "metadata": {},
   "outputs": [],
   "source": [
    "def selectionSort(arr):\n",
    "    newArr = []\n",
    "    for i in range(len(arr)):\n",
    "        smallest_index = findSmallest(arr)\n",
    "        newArr.append(arr.pop(smallest_index))\n",
    "    return newArr"
   ]
  },
  {
   "cell_type": "code",
   "execution_count": 6,
   "metadata": {},
   "outputs": [
    {
     "data": {
      "text/plain": [
       "[1, 6, 10, 40]"
      ]
     },
     "execution_count": 6,
     "metadata": {},
     "output_type": "execute_result"
    }
   ],
   "source": [
    "selectionSort(arr)"
   ]
  },
  {
   "cell_type": "markdown",
   "metadata": {},
   "source": [
    "# Recursion"
   ]
  },
  {
   "cell_type": "markdown",
   "metadata": {},
   "source": [
    "- a function call itself\n",
    "\n",
    "- base case and a recursive case\n",
    "\n",
    "- divide and conquer strategy"
   ]
  },
  {
   "cell_type": "markdown",
   "metadata": {},
   "source": [
    "## Countdown"
   ]
  },
  {
   "cell_type": "code",
   "execution_count": 9,
   "metadata": {
    "collapsed": true
   },
   "outputs": [],
   "source": [
    "def countDown(n):\n",
    "    print(n)\n",
    "    if n <= 0: # base case\n",
    "        return\n",
    "    else: # recursive case\n",
    "        countDown(n-1)"
   ]
  },
  {
   "cell_type": "code",
   "execution_count": 10,
   "metadata": {},
   "outputs": [
    {
     "name": "stdout",
     "output_type": "stream",
     "text": [
      "10\n",
      "9\n",
      "8\n",
      "7\n",
      "6\n",
      "5\n",
      "4\n",
      "3\n",
      "2\n",
      "1\n",
      "0\n"
     ]
    }
   ],
   "source": [
    "countDown(10)"
   ]
  },
  {
   "cell_type": "markdown",
   "metadata": {},
   "source": [
    "## Call Stack"
   ]
  },
  {
   "cell_type": "markdown",
   "metadata": {},
   "source": [
    "- partially completed. \n",
    "\n",
    "    - when you call a function from another function, the calling function is paused in a partially completed state."
   ]
  },
  {
   "cell_type": "markdown",
   "metadata": {},
   "source": [
    "### The call stack with recursion\n",
    "\n",
    "#### Factorial"
   ]
  },
  {
   "cell_type": "code",
   "execution_count": 24,
   "metadata": {
    "collapsed": true
   },
   "outputs": [],
   "source": [
    "def factorial(x):\n",
    "    if x == 0:\n",
    "        return 1\n",
    "    else:\n",
    "        return factorial(x-1) * x"
   ]
  },
  {
   "cell_type": "code",
   "execution_count": 25,
   "metadata": {},
   "outputs": [
    {
     "data": {
      "text/plain": [
       "120"
      ]
     },
     "execution_count": 25,
     "metadata": {},
     "output_type": "execute_result"
    }
   ],
   "source": [
    "factorial(5)"
   ]
  },
  {
   "cell_type": "markdown",
   "metadata": {},
   "source": [
    "### Tail-call optimization\n",
    "\n",
    "- To avoid allocating a new stack frame for a function because the calling function will simply return the value that it gets from the called function. \n",
    "\n",
    "- The most common use is tail-recursion, where a recursive function written to take advantage of tail-call optimization can use constant stack space."
   ]
  },
  {
   "cell_type": "markdown",
   "metadata": {},
   "source": [
    "### Pyramid"
   ]
  },
  {
   "cell_type": "code",
   "execution_count": 23,
   "metadata": {},
   "outputs": [],
   "source": [
    "def pyramid(n):\n",
    "    print(\"\\nprint a pyramid\\n\")\n",
    "    for i in range(n):\n",
    "        print(' '*(n-i)+'*'*(i*2-1)+' '*(n-i))"
   ]
  },
  {
   "cell_type": "code",
   "execution_count": 24,
   "metadata": {},
   "outputs": [
    {
     "name": "stdout",
     "output_type": "stream",
     "text": [
      "\n",
      "print a pyramid\n",
      "\n",
      "          \n",
      "    *    \n",
      "   ***   \n",
      "  *****  \n",
      " ******* \n"
     ]
    }
   ],
   "source": [
    "pyramid(5)"
   ]
  },
  {
   "cell_type": "markdown",
   "metadata": {},
   "source": [
    "# Quicksort"
   ]
  },
  {
   "cell_type": "markdown",
   "metadata": {},
   "source": [
    "## Divide and Conquer"
   ]
  },
  {
   "cell_type": "markdown",
   "metadata": {},
   "source": [
    "- To solve a problem using D&C:\n",
    "\n",
    "    1. Figure out the base case. This should be the simplest possible case.\n",
    "\n",
    "    2. Divide or decrease your problem until it becomes the base case."
   ]
  },
  {
   "cell_type": "markdown",
   "metadata": {},
   "source": [
    "### [Euclid’s algorith](https://www.khanacademy.org/computing/computer-science/cryptography/modarithmetic/a/the-euclidean-algorithm)\n",
    "\n",
    "- The Euclidean Algorithm is a technique for quickly finding the GCD of two integers.\n",
    "    \n",
    "    1. If A = 0 then GCD(A,B)=B, since the GCD(0,B)=B, and we can stop.  \n",
    "    \n",
    "    2. If B = 0 then GCD(A,B)=A, since the GCD(A,0)=A, and we can stop.  \n",
    "\n",
    "    3. Write A in quotient remainder form (A = B⋅Q + R)\n",
    "\n",
    "    4. Find GCD(B,R) using the Euclidean Algorithm since GCD(A,B) = GCD(B,R)"
   ]
  },
  {
   "cell_type": "markdown",
   "metadata": {},
   "source": [
    "- Property:\n",
    "\n",
    "    1. GCD(A,0) = A\n",
    "\n",
    "    2. GCD(0,B) = B\n",
    "\n",
    "    3. If A = B⋅Q + R and B≠0 then GCD(A,B) = GCD(B,R) where Q is an integer, R is an integer between 0 and B-1\n",
    "    \n",
    "    4. For A = B + C, GCD(B,C) % A = 0 and GCD(A,B) % C = 0  "
   ]
  },
  {
   "cell_type": "markdown",
   "metadata": {},
   "source": [
    "- GCD(A,B)=GCD(B,R), proof:\n",
    "    \n",
    "    1. Proof that GCD(A,B)=GCD(B,A-B)\n",
    "    \n",
    "        A. Proof that the GCD(A,B) evenly divides C = A-B\n",
    "        \n",
    "        B. Proof that the GCD(B,C) evenly divides A\n",
    "        \n",
    "        C. Proof that GCD(A,B) = GCD(B,A-B)\n",
    "\n",
    "    2. Proof that GCD(A,B)=GCD(B,A-B⋅Q)"
   ]
  },
  {
   "cell_type": "markdown",
   "metadata": {},
   "source": [
    "### Example 1: divide farm (1680 $\\times$ 640) evenly into square plots\n",
    "\n",
    "1. reduce the problem from a 1680 × 640 farm to a 640 × 400 farm\n",
    "\n",
    "2. reduce 640 × 400 to 240 × 400\n",
    "\n",
    "3. reduce 240 × 400 to 160 × 240\n",
    "\n",
    "4. reduce 160 × 240 to $\\underline{\\text{80 × 160}}$ $\\Rightarrow$ Base Case !"
   ]
  },
  {
   "cell_type": "markdown",
   "metadata": {},
   "source": [
    "### Sneak peak at functional programming"
   ]
  },
  {
   "cell_type": "markdown",
   "metadata": {},
   "source": [
    "### Example 2: Add Up An Array"
   ]
  },
  {
   "cell_type": "code",
   "execution_count": 14,
   "metadata": {},
   "outputs": [],
   "source": [
    "arr = [2,4,6]"
   ]
  },
  {
   "cell_type": "code",
   "execution_count": 16,
   "metadata": {},
   "outputs": [],
   "source": [
    "def sumRec(arr):\n",
    "    if len(arr) == 0:\n",
    "        return 0\n",
    "    else:\n",
    "        return arr[0] + sumRec(arr[1:])"
   ]
  },
  {
   "cell_type": "code",
   "execution_count": 17,
   "metadata": {},
   "outputs": [
    {
     "data": {
      "text/plain": [
       "12"
      ]
     },
     "execution_count": 17,
     "metadata": {},
     "output_type": "execute_result"
    }
   ],
   "source": [
    "sumRec(arr)"
   ]
  },
  {
   "cell_type": "markdown",
   "metadata": {},
   "source": [
    "### Q1: Count the number of items in a list"
   ]
  },
  {
   "cell_type": "code",
   "execution_count": 18,
   "metadata": {},
   "outputs": [],
   "source": [
    "ls = [1,2,3,4]"
   ]
  },
  {
   "cell_type": "code",
   "execution_count": 19,
   "metadata": {},
   "outputs": [],
   "source": [
    "def countList(ls):\n",
    "    if len(ls) == 0:\n",
    "        return 0\n",
    "    else:\n",
    "        return 1 + len(ls[1:])"
   ]
  },
  {
   "cell_type": "code",
   "execution_count": 20,
   "metadata": {},
   "outputs": [
    {
     "data": {
      "text/plain": [
       "4"
      ]
     },
     "execution_count": 20,
     "metadata": {},
     "output_type": "execute_result"
    }
   ],
   "source": [
    "countList(ls)"
   ]
  },
  {
   "cell_type": "markdown",
   "metadata": {},
   "source": [
    "### Q2: Find the maximum number in a list."
   ]
  },
  {
   "cell_type": "code",
   "execution_count": 18,
   "metadata": {},
   "outputs": [],
   "source": [
    "ls = [2,3,4,1]"
   ]
  },
  {
   "cell_type": "code",
   "execution_count": 27,
   "metadata": {},
   "outputs": [],
   "source": [
    "def maxRec1(ls):\n",
    "    if len(ls) > 1:\n",
    "        if len(ls) == 2:\n",
    "            return ls[0] if ls[0] > ls[1] else ls[1]\n",
    "        else:\n",
    "            return maxRec1(ls[1:])\n",
    "    else:\n",
    "        return ls[0] if len(ls) == 1 else ls"
   ]
  },
  {
   "cell_type": "code",
   "execution_count": 28,
   "metadata": {},
   "outputs": [
    {
     "data": {
      "text/plain": [
       "4"
      ]
     },
     "execution_count": 28,
     "metadata": {},
     "output_type": "execute_result"
    }
   ],
   "source": [
    "maxRec1(ls)"
   ]
  },
  {
   "cell_type": "code",
   "execution_count": 29,
   "metadata": {},
   "outputs": [],
   "source": [
    "def maxRec2(ls):\n",
    "    if len(ls) > 1:\n",
    "        if len(ls) == 2:\n",
    "                return ls[0] if ls[0] > ls[1] else ls[1]\n",
    "        sub_max = maxRec2(ls[1:])\n",
    "        return ls[0] if ls[0] > sub_max else sub_max\n",
    "    else:\n",
    "        return ls[0] if len(ls) == 1 else ls"
   ]
  },
  {
   "cell_type": "code",
   "execution_count": 30,
   "metadata": {},
   "outputs": [
    {
     "data": {
      "text/plain": [
       "4"
      ]
     },
     "execution_count": 30,
     "metadata": {},
     "output_type": "execute_result"
    }
   ],
   "source": [
    "maxRec2(ls)"
   ]
  },
  {
   "cell_type": "markdown",
   "metadata": {},
   "source": [
    "### Q3. The base case and recursive case for binary search?\n",
    "\n",
    "- The base case: an array with one item. If the item you’re looking for matches the item in the array, you found it! Otherwise, it isn’t in the array. \n",
    "\n",
    "- The recursive case: split the array in half, throw away one half, and call binary search on the other half."
   ]
  },
  {
   "cell_type": "markdown",
   "metadata": {},
   "source": [
    "## Quicksort"
   ]
  },
  {
   "cell_type": "markdown",
   "metadata": {},
   "source": [
    "C standard library: qsort"
   ]
  },
  {
   "cell_type": "markdown",
   "metadata": {},
   "source": [
    "- Base case: Empty arrays and arrays with just one element. (return directly)\n",
    "\n",
    "\n",
    "- Break down array to base case:\n",
    "\n",
    "    1. pick pivot\n",
    "    \n",
    "    2. partitioning\n",
    "    \n",
    "        - find the elements smaller than the pivot and the elements larger than the pivot\n",
    "        \n",
    "        - Now, we have:\n",
    "        \n",
    "            - A sub-array of all the numbers less than the pivot\n",
    "\n",
    "            - The pivot\n",
    "\n",
    "            - A sub-array of all the numbers greater than the pivot\n",
    "            \n",
    "        - Next to do:\n",
    "        \n",
    "            - sort each sub-array\n",
    "            \n",
    "            - combine them with pivot\n",
    "    \n",
    "    3. call quick sort on each sub-array\n"
   ]
  },
  {
   "cell_type": "code",
   "execution_count": 1,
   "metadata": {},
   "outputs": [],
   "source": [
    "ls = [2,1,5,3,4]"
   ]
  },
  {
   "cell_type": "code",
   "execution_count": 9,
   "metadata": {},
   "outputs": [],
   "source": [
    "def quickSort(ls):\n",
    "    if len(ls) > 0: \n",
    "        if len(ls) == 1:\n",
    "            return ls\n",
    "        else:\n",
    "            pivot = ls[0]\n",
    "            less = [item for item in ls[1:] if item <= pivot]\n",
    "            greater = [item for item in ls[1:] if item > pivot]\n",
    "            return quickSort(less) + [pivot] + quickSort(greater)\n",
    "    else:\n",
    "        return ls"
   ]
  },
  {
   "cell_type": "code",
   "execution_count": 10,
   "metadata": {},
   "outputs": [
    {
     "data": {
      "text/plain": [
       "[1, 2, 3, 4, 5]"
      ]
     },
     "execution_count": 10,
     "metadata": {},
     "output_type": "execute_result"
    }
   ],
   "source": [
    "quickSort(ls)"
   ]
  },
  {
   "cell_type": "markdown",
   "metadata": {},
   "source": [
    "## Inductive proofs"
   ]
  },
  {
   "cell_type": "markdown",
   "metadata": {
    "collapsed": true
   },
   "source": [
    "- Base case: arrays of size 0 and 1. \n",
    "\n",
    "- Inductive case: if quicksort works for an array of size 1, it will work for an array of size 2. And if it works for arrays of size 2, it will work for arrays of size 3, and so on."
   ]
  },
  {
   "cell_type": "markdown",
   "metadata": {},
   "source": [
    "## Merge sort"
   ]
  },
  {
   "cell_type": "markdown",
   "metadata": {},
   "source": [
    "1. Split the unsorted list into groups recursively until there is one element per group\n",
    "\n",
    "2. Compare each of the elements and then group them \n",
    "\n",
    "3. Repeat step 2 until the whole list is merged and sorted in the process\n",
    "\n",
    "4. Check the remaining elements in both left side and right side."
   ]
  },
  {
   "cell_type": "code",
   "execution_count": 1,
   "metadata": {},
   "outputs": [],
   "source": [
    "def mergeSort(alist):\n",
    "    print(\"Splitting \",alist)\n",
    "    if len(alist)>1:\n",
    "        mid = len(alist)//2\n",
    "        lefthalf = alist[:mid]\n",
    "        righthalf = alist[mid:]\n",
    "\n",
    "        mergeSort(lefthalf)\n",
    "        mergeSort(righthalf)\n",
    "\n",
    "        i=0\n",
    "        j=0\n",
    "        k=0\n",
    "        while i < len(lefthalf) and j < len(righthalf):\n",
    "            if lefthalf[i] < righthalf[j]:\n",
    "                alist[k]=lefthalf[i]\n",
    "                i=i+1\n",
    "            else:\n",
    "                alist[k]=righthalf[j]\n",
    "                j=j+1\n",
    "            k=k+1\n",
    "\n",
    "        while i < len(lefthalf):\n",
    "            alist[k]=lefthalf[i]\n",
    "            i=i+1\n",
    "            k=k+1\n",
    "\n",
    "        while j < len(righthalf):\n",
    "            alist[k]=righthalf[j]\n",
    "            j=j+1\n",
    "            k=k+1\n",
    "    print(\"Merging \",alist)"
   ]
  },
  {
   "cell_type": "code",
   "execution_count": 2,
   "metadata": {},
   "outputs": [],
   "source": [
    "alist = [54,26,93,17,77,31,44,55,20]"
   ]
  },
  {
   "cell_type": "code",
   "execution_count": 3,
   "metadata": {},
   "outputs": [
    {
     "name": "stdout",
     "output_type": "stream",
     "text": [
      "Splitting  [54, 26, 93, 17, 77, 31, 44, 55, 20]\n",
      "Splitting  [54, 26, 93, 17]\n",
      "Splitting  [54, 26]\n",
      "Splitting  [54]\n",
      "Merging  [54]\n",
      "Splitting  [26]\n",
      "Merging  [26]\n",
      "Merging  [26, 54]\n",
      "Splitting  [93, 17]\n",
      "Splitting  [93]\n",
      "Merging  [93]\n",
      "Splitting  [17]\n",
      "Merging  [17]\n",
      "Merging  [17, 93]\n",
      "Merging  [17, 26, 54, 93]\n",
      "Splitting  [77, 31, 44, 55, 20]\n",
      "Splitting  [77, 31]\n",
      "Splitting  [77]\n",
      "Merging  [77]\n",
      "Splitting  [31]\n",
      "Merging  [31]\n",
      "Merging  [31, 77]\n",
      "Splitting  [44, 55, 20]\n",
      "Splitting  [44]\n",
      "Merging  [44]\n",
      "Splitting  [55, 20]\n",
      "Splitting  [55]\n",
      "Merging  [55]\n",
      "Splitting  [20]\n",
      "Merging  [20]\n",
      "Merging  [20, 55]\n",
      "Merging  [20, 44, 55]\n",
      "Merging  [20, 31, 44, 55, 77]\n",
      "Merging  [17, 20, 26, 31, 44, 54, 55, 77, 93]\n"
     ]
    }
   ],
   "source": [
    "mergeSort(alist)"
   ]
  },
  {
   "cell_type": "code",
   "execution_count": 4,
   "metadata": {},
   "outputs": [
    {
     "name": "stdout",
     "output_type": "stream",
     "text": [
      "[17, 20, 26, 31, 44, 54, 55, 77, 93]\n"
     ]
    }
   ],
   "source": [
    "print(alist)"
   ]
  },
  {
   "cell_type": "markdown",
   "metadata": {
    "collapsed": true
   },
   "source": [
    "## Merge sort vs. quicksort"
   ]
  },
  {
   "cell_type": "markdown",
   "metadata": {},
   "source": [
    "- Quicksort has a smaller constant than merge sort. So if they’re both O(n log n) time, quicksort is faster.\n",
    "\n",
    "-  quicksort is faster in practice because it hits the average case way more often than the worst case."
   ]
  },
  {
   "cell_type": "markdown",
   "metadata": {},
   "source": [
    "## Average case vs. worst case"
   ]
  },
  {
   "cell_type": "markdown",
   "metadata": {},
   "source": [
    "- quicksort: heavily depends on the pivot\n",
    "\n",
    "    - may choose to sort a sorted array if the pivot starts from the largest/smallest\n",
    "    \n",
    "    - worst case:\n",
    "        - O(n) stacks, each cost O(n) operations $\\Rightarrow O(n^2)$\n",
    "        \n",
    "    - best case:\n",
    "        - O($\\log n$) stacks, each cost O(n) operations $\\Rightarrow O(n\\log n)$\n",
    "\n",
    "    - average case(pick pivot randomly):\n",
    "        - O($n\\log n$)"
   ]
  },
  {
   "cell_type": "code",
   "execution_count": null,
   "metadata": {},
   "outputs": [],
   "source": []
  }
 ],
 "metadata": {
  "anaconda-cloud": {},
  "kernelspec": {
   "display_name": "Python 3",
   "language": "python",
   "name": "python3"
  },
  "language_info": {
   "codemirror_mode": {
    "name": "ipython",
    "version": 3
   },
   "file_extension": ".py",
   "mimetype": "text/x-python",
   "name": "python",
   "nbconvert_exporter": "python",
   "pygments_lexer": "ipython3",
   "version": "3.7.3"
  }
 },
 "nbformat": 4,
 "nbformat_minor": 1
}
